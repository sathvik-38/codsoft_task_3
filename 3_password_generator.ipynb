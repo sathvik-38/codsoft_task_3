{
 "cells": [
  {
   "cell_type": "code",
   "execution_count": null,
   "id": "a5297e8a",
   "metadata": {},
   "outputs": [],
   "source": [
    "import random\n",
    "import string"
   ]
  },
  {
   "cell_type": "code",
   "execution_count": null,
   "id": "c64abcac",
   "metadata": {},
   "outputs": [],
   "source": [
    "if __name__==\"__main__\":\n",
    "    p1=string.ascii_lowercase\n",
    "    p2=string.ascii_uppercase\n",
    "    p3=string.digits\n",
    "    p4=string.punctuation\n",
    "    n=int(input(\"Enter the Password Length : \"))\n",
    "    s=[]\n",
    "    s.extend(list(p1))\n",
    "    s.extend(list(p2))\n",
    "    s.extend(list(p3))\n",
    "    s.extend(list(p4))\n",
    "    print(\"Your PASSWORD:\",end=\" \")\n",
    "    print(\"\".join(random.sample(s,n)))"
   ]
  }
 ],
 "metadata": {
  "jupytext": {
   "cell_metadata_filter": "-all",
   "main_language": "python",
   "notebook_metadata_filter": "-all"
  }
 },
 "nbformat": 4,
 "nbformat_minor": 5
}
